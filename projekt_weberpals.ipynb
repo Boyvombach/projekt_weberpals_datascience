{
 "cells": [
  {
   "cell_type": "markdown",
   "metadata": {},
   "source": [
    "## Einleitung und Forschungsfrage:\n",
    "\n",
    "Die sozioökonomische Dynamik innerhalb der Stadtteile Freiburgs offenbart wichtige Einsichten in die Beziehung zwischen Arbeitslosigkeit und Migration. Durch die Analyse von Daten aus dem OpenData-Portal der Stadt Freiburg untersuchen wir, wie Arbeitslosenquoten und der Anteil der Bevölkerung mit Migrationshintergrund zusammenhängen. Ziel ist es, Erkenntnisse zu gewinnen, die zur Planung effektiver Fördermaßnahmen beitragen können.\n",
    "\n",
    "**Forschungsfrage**: \n",
    "Gibt es eine Korrelation zwischen der Arbeitslosenquote und dem Anteil der Personen mit Migrationshintergrund in den Stadtteilen von Freiburg, und welche Schlussfolgerungen lassen sich daraus für zukünftige Förderprogramme ziehen?\n",
    "\n",
    "Diese kompakte Untersuchung soll dazu beitragen, gezielte Strategien für eine integrative Stadtentwicklung zu identifizieren."
   ]
  },
  {
   "cell_type": "markdown",
   "metadata": {},
   "source": [
    "## Datensätze\n",
    "\n",
    "Für unsere Analyse nutzen wir zwei Datensätze vom OpenData-Portal der Stadt Freiburg:\n",
    "\n",
    "1. **Arbeitslosenquoten pro Stadtteil**: Dieser Datensatz enthält detaillierte Informationen über die Arbeitslosigkeit in den verschiedenen Stadtteilen von Freiburg, was uns ermöglicht, die wirtschaftliche Lage zu beurteilen.\n",
    "\n",
    "2. **Anteil der Personen mit Migrationshintergrund pro Stadtteil**: Dieser Datensatz bietet Einblicke in die demografische Zusammensetzung der Stadtteile, speziell im Hinblick auf den Migrationshintergrund.\n",
    "\n",
    "Die Analyse dieser Datensätze ermöglicht es uns, tiefergehende Einblicke in die sozioökonomischen Bedingungen der Stadtteile Freiburgs zu gewinnen und potenzielle Korrelationen zwischen Arbeitslosigkeit und Migrationshintergrund zu untersuchen.\n"
   ]
  },
  {
   "cell_type": "code",
   "execution_count": null,
   "metadata": {},
   "outputs": [],
   "source": [
    "import pandas as pd\n",
    "\n",
    "pfad_arbeitslosigkeit = \"/path/to/de-bw-freiburg-arbeitslose_ba_nuernberg_in_stadtbezirken_zeitreihe.csv\"\n",
    "pfad_migrationshintergrund = \"/path/to/de-bw-freiburg-grunddaten_fuer_indikatoren_stadtbezirke_-_migrationshintergrund.csv\"\n",
    "\n",
    "df_arbeitslosigkeit = pd.read_csv(pfad_arbeitslosigkeit, sep=\";\")  \n",
    "df_migrationshintergrund = pd.read_csv(pfad_migrationshintergrund, sep=\";\")  \n",
    "\n",
    "\n",
    "print(\"Datensatz: Arbeitslosenquoten pro Stadtteil\")\n",
    "print(df_arbeitslosigkeit.head())\n",
    "print(\"\\nDatensatz: Anteil der Personen mit Migrationshintergrund pro Stadtteil\")\n",
    "print(df_migrationshintergrund.head())\n"
   ]
  }
 ],
 "metadata": {
  "kernelspec": {
   "display_name": "Python 3",
   "language": "python",
   "name": "python3"
  },
  "language_info": {
   "codemirror_mode": {
    "name": "ipython",
    "version": 3
   },
   "file_extension": ".py",
   "mimetype": "text/x-python",
   "name": "python",
   "nbconvert_exporter": "python",
   "pygments_lexer": "ipython3",
   "version": "3.11.8"
  }
 },
 "nbformat": 4,
 "nbformat_minor": 2
}
